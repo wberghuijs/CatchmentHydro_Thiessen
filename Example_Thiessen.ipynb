{
 "cells": [
  {
   "attachments": {},
   "cell_type": "markdown",
   "id": "36c682fc",
   "metadata": {},
   "source": [
    "# Catchment Hydrology, MSc course\n",
    "\n",
    "## Thiessen\n",
    "\n",
    "#### Wouter R. Berghuijs (w.r.berghuijs@vu.nl)\n",
    "\n",
    "In this notebook you can calculate the relative weight of different precipitation measurement station for the Dinkel Catchment, using Thiesse polygons. The order of results is randomized, but it allows you to check if the percentages you calculated with your group are correct"
   ]
  },
  {
   "cell_type": "code",
   "execution_count": 1,
   "id": "aa23cbb2",
   "metadata": {},
   "outputs": [
    {
     "name": "stderr",
     "output_type": "stream",
     "text": [
      "/Users/wbs211/opt/anaconda3/lib/python3.9/site-packages/geopandas/_compat.py:111: UserWarning: The Shapely GEOS version (3.10.2-CAPI-1.16.0) is incompatible with the GEOS version PyGEOS was compiled with (3.10.1-CAPI-1.16.0). Conversions between both will be slow.\n",
      "  warnings.warn(\n"
     ]
    }
   ],
   "source": [
    "# Load packages\n",
    "\n",
    "import geopandas as gpd\n",
    "from longsgis import voronoiDiagram4plg\n",
    "import matplotlib.pyplot as plt\n",
    "import pandas as pd\n",
    "from shapely.geometry import shape\n",
    "from ipywidgets import interact, interactive, fixed, interact_manual\n",
    "import ipywidgets as widgets"
   ]
  },
  {
   "cell_type": "code",
   "execution_count": 7,
   "id": "767df945",
   "metadata": {},
   "outputs": [],
   "source": [
    "# This function calculates Thiessen polygons for you\n",
    "\n",
    "def run_thiessen(select_time):\n",
    "    \n",
    "    # Select relevant stations and Convert shapefiles to GeoJSON\n",
    "    shp_file = gpd.read_file(select_time + 'catchment.shp')\n",
    "    shp_file.to_file('boundary.geojson', driver='GeoJSON')\n",
    "    shp_file = gpd.read_file(select_time + 'Stations.shp')\n",
    "    shp_file.to_file('input.geojson', driver='GeoJSON')\n",
    "    \n",
    "    # Analyze to Voronoi (I.e. thiessen polygons)\n",
    "    builtup = gpd.read_file('input.geojson'); builtup.crs = 32650\n",
    "    boundary = gpd.read_file('boundary.geojson'); boundary.crs = 32650\n",
    "    vd = voronoiDiagram4plg(builtup, boundary)\n",
    "    vd.to_file('output.geojson', driver='GeoJSON')\n",
    "\n",
    "    # Read location of stations for which we have precipitation data\n",
    "    gdf = gpd.read_file(select_time + \"Stations.shp\")\n",
    "    gdf.head()\n",
    "\n",
    "    # Show the catchment shapefile (including the stations)\n",
    "    #boundary = gpd.read_file(select_time + 'Catchment.shp')\n",
    "    fig, ax = plt.subplots(figsize=(12, 10))\n",
    "    vd.plot(ax=ax, color='grey')\n",
    "    gdf.plot(ax=ax, markersize=100, color='red')\n",
    "    ax.axis('on')\n",
    "    plt.axis('equal')\n",
    "    plt.show()\n",
    "    \n",
    "    # Calculate relative area of each polygon\n",
    "    relative_size_areas = vd.area/sum(vd.area)\n",
    "    stations_list = builtup.Name\n",
    "    print('The weight of stations (In random order)')\n",
    "    return relative_size_areas"
   ]
  },
  {
   "cell_type": "code",
   "execution_count": 6,
   "id": "4924c31a",
   "metadata": {},
   "outputs": [
    {
     "data": {
      "application/vnd.jupyter.widget-view+json": {
       "model_id": "d8ab559604b6406983d51eb83acfdb16",
       "version_major": 2,
       "version_minor": 0
      },
      "text/plain": [
       "interactive(children=(Dropdown(description='select_time', options=('1950-1964/', '1964-1980/', '1980-1993/', '…"
      ]
     },
     "metadata": {},
     "output_type": "display_data"
    },
    {
     "data": {
      "text/plain": [
       "<function __main__.run_thiessen(select_time)>"
      ]
     },
     "execution_count": 6,
     "metadata": {},
     "output_type": "execute_result"
    }
   ],
   "source": [
    "# Run this function for the different time periods\n",
    "widgets.interact(run_thiessen, select_time = ['1950-1964/', '1964-1980/', '1980-1993/', '1993-2006/', '2006-2010/'])"
   ]
  }
 ],
 "metadata": {
  "kernelspec": {
   "display_name": "Python 3 (ipykernel)",
   "language": "python",
   "name": "python3"
  },
  "language_info": {
   "codemirror_mode": {
    "name": "ipython",
    "version": 3
   },
   "file_extension": ".py",
   "mimetype": "text/x-python",
   "name": "python",
   "nbconvert_exporter": "python",
   "pygments_lexer": "ipython3",
   "version": "3.9.7"
  }
 },
 "nbformat": 4,
 "nbformat_minor": 5
}
